{
 "cells": [
  {
   "cell_type": "markdown",
   "metadata": {},
   "source": [
    "# Обработка инцидентов"
   ]
  },
  {
   "cell_type": "markdown",
   "metadata": {},
   "source": [
    "Есть набор из N инцидентов. Каждый имеет: id с последовательными значениями от 0 до N-1, два категориальных признака с целыми значениями от 0 до M-1, признак времени с каким-то (нецелым) значением от 0 до 1.\n",
    "\n",
    "Надо написать на функцию, которая получает на вход dT и файл с инцидентами, а вычисляет для каждого из N инцидентов количество инцидентов, которые удовлетворяют следующим условиям:\n",
    "\n",
    "- предшествуют данному инциденту по времени, при этом разница по времени не превосходит dT;\n",
    "- имеют значения feature1 и feature2, совпадающие с соответствующими значениями данного инцидента.\n",
    "\n",
    "Пример:\n",
    "\n",
    "id,feature1,feature2,time\n",
    "\n",
    "0,1,0,0.206520219143\n",
    "\n",
    "1,0,0,0.233725001118\n",
    "\n",
    "2,0,1,0.760992754734\n",
    "\n",
    "3,1,1,0.92776979943\n",
    "\n",
    "4,1,0,0.569711498585\n",
    "\n",
    "5,0,1,0.99224586863\n",
    "\n",
    "6,0,0,0.593264390713\n",
    "\n",
    "7,1,0,0.694181201747\n",
    "\n",
    "8,1,1,0.823812651856\n",
    "\n",
    "9,0,1,0.906011017725\n",
    "\n",
    "\n",
    "В случае dT=0.3 для приведенного выше примера ответ должен выглядеть так:\n",
    "\n",
    "id,count\n",
    "\n",
    "0,0\n",
    "\n",
    "1,0\n",
    "\n",
    "2,0\n",
    "\n",
    "3,1\n",
    "\n",
    "4,0\n",
    "\n",
    "5,2\n",
    "\n",
    "6,0\n",
    "\n",
    "7,1\n",
    "\n",
    "8,0\n",
    "\n",
    "9,1\n",
    "\n",
    "Функция должна считывать csv-файл с инцидентами, вычислять результаты для всех инцидентов и выписывать их в csv-файл указанного вида. Основной нюанс: функция должна работать достаточно быстро, а именно не дольше минуты при M=100, N=1000000, dT=0.3. Объем потребляемой программой памяти в процессе работы не должен превышать 2Гб."
   ]
  },
  {
   "cell_type": "markdown",
   "metadata": {},
   "source": [
    "## Создание файла с инцидентами"
   ]
  },
  {
   "cell_type": "code",
   "execution_count": 1,
   "metadata": {},
   "outputs": [],
   "source": [
    "# Файл с инцидентом из примера\n",
    "\n",
    "import numpy as np\n",
    "import pandas as pd\n",
    "\n",
    "M = 2\n",
    "N = 10\n",
    "\n",
    "df = pd.DataFrame({'feature1':[1,0,0,1,1,0,0,1,1,0],\n",
    "                   'feature2':[0,0,1,1,0,1,0,0,1,1],\n",
    "                   'time':[0.206520219143,0.233725001118,0.760992754734,0.92776979943,0.569711498585,0.99224586863,0.593264390713,0.694181201747,0.823812651856,0.906011017725]\n",
    "                  })\n",
    "\n",
    "df.to_csv('incidents.csv', index_label='id')"
   ]
  },
  {
   "cell_type": "code",
   "execution_count": 2,
   "metadata": {},
   "outputs": [],
   "source": [
    "# Файл с инцидентом для проверки времени работы и памяти\n",
    "\n",
    "import numpy as np\n",
    "import pandas as pd\n",
    "\n",
    "M = 100\n",
    "N = 1000000\n",
    "\n",
    "df = pd.DataFrame({'feature1':np.random.randint(M, size=(N,)),\n",
    "                 'feature2':np.random.randint(M, size=(N,)),\n",
    "                 'time':np.random.rand(N)\n",
    "                 })\n",
    "\n",
    "df.to_csv('incidents.csv', index_label='id')"
   ]
  },
  {
   "cell_type": "markdown",
   "metadata": {},
   "source": [
    "## Решение задачи"
   ]
  },
  {
   "cell_type": "code",
   "execution_count": 3,
   "metadata": {},
   "outputs": [
    {
     "name": "stdout",
     "output_type": "stream",
     "text": [
      "150573056\n",
      "CPU times: user 1min 27s, sys: 1.83 s, total: 1min 29s\n",
      "Wall time: 1min 31s\n"
     ]
    }
   ],
   "source": [
    "%%time\n",
    "\n",
    "import numpy as np\n",
    "import pandas as pd\n",
    "import os\n",
    "import psutil\n",
    "\n",
    "process = psutil.Process(os.getpid())\n",
    "\n",
    "def incidents(incidents_in, incidents_out, dT):\n",
    "    df = pd.read_csv(incidents_in, index_col='id').values\n",
    "\n",
    "# Количество строк в df\n",
    "    n = len(df)\n",
    "\n",
    "# Индексы для сортировки по time по убыванию\n",
    "    ix = np.argsort(df[:,2])[::-1]\n",
    "\n",
    "# Сортируем таблицу по time по убыванию\n",
    "    df = df[ix]\n",
    "\n",
    "# Заготовка для итогового файла\n",
    "    cT = np.zeros(n, dtype=np.int16)\n",
    "\n",
    "# Индексы уникальных пар (feature1, feature2)\n",
    "    _, indices, _ = np.unique(df[:,0:2], axis=0, return_counts=True, return_inverse=True)\n",
    "\n",
    "# Список массивов с индексами уникальных пар (feature1, feature2)\n",
    "    cff = [np.argwhere(i==indices) for i in np.unique(indices)]\n",
    "\n",
    "# Список массивов c индексами более 1 уникальной пары (feature1, feature2)\n",
    "    cfs = [cf.T[0] for cf in cff if len(cf)>1]\n",
    "\n",
    "# Выбираем те строки, где расстояние между time меньше заданного\n",
    "    for cf in cfs:\n",
    "        for i, row in enumerate(cf[:-1]):\n",
    "# Результат пишем, используя индекс сортировки\n",
    "            cT[ix[row]] = len([j for j in xrange(1+i,len(cf)) if (df[cf[i],2]-df[cf[j],2])<dT])\n",
    "    \n",
    "    pd.DataFrame(cT, columns = ['count']).to_csv(incidents_out, index_label='id')\n",
    "\n",
    "incidents('incidents.csv', 'cT.csv', 0.3)\n",
    "\n",
    "# Объем потребляемой программой памяти в байтах\n",
    "print process.memory_info()[0]"
   ]
  },
  {
   "cell_type": "markdown",
   "metadata": {},
   "source": [
    "## Проверка"
   ]
  },
  {
   "cell_type": "code",
   "execution_count": 5,
   "metadata": {},
   "outputs": [
    {
     "name": "stdout",
     "output_type": "stream",
     "text": [
      "id,count\r\n",
      "0,0\r\n",
      "1,0\r\n",
      "2,0\r\n",
      "3,1\r\n",
      "4,0\r\n",
      "5,2\r\n",
      "6,0\r\n",
      "7,1\r\n",
      "8,0\r\n",
      "9,1\r\n"
     ]
    }
   ],
   "source": [
    "!cat cT.csv"
   ]
  },
  {
   "cell_type": "code",
   "execution_count": null,
   "metadata": {},
   "outputs": [],
   "source": []
  }
 ],
 "metadata": {
  "kernelspec": {
   "display_name": "Python 2",
   "language": "python",
   "name": "python2"
  },
  "language_info": {
   "codemirror_mode": {
    "name": "ipython",
    "version": 2
   },
   "file_extension": ".py",
   "mimetype": "text/x-python",
   "name": "python",
   "nbconvert_exporter": "python",
   "pygments_lexer": "ipython2",
   "version": "2.7.15"
  }
 },
 "nbformat": 4,
 "nbformat_minor": 2
}
